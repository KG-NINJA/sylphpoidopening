# run_demo.ipynb
!apt-get update -qq
!apt-get install -y xvfb ffmpeg
!pip install pygame PyOpenGL

# 録画実行（GPUなしでもOK）
!xvfb-run -s "-screen 0 1280x720x24" python run_demo.py --record --width 1280 --height 720

from IPython.display import Video
Video("demo.mp4", embed=True)
